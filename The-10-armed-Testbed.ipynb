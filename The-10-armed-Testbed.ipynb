{
 "cells": [
  {
   "cell_type": "code",
   "execution_count": 1,
   "id": "bf0b515b",
   "metadata": {},
   "outputs": [],
   "source": [
    "import numpy as np\n",
    "from matplotlib import pyplot as plt\n",
    "plt.style.use(\"seaborn\")\n",
    "\n",
    "class Reward:\n",
    "    def __init__(self,k,mean,variance,initaial_value=0.0):\n",
    "        self.rewards = np.array([[0,initaial_value] for i in range(k)])\n",
    "        self.reward_mean = np.random.normal( mean, variance, k)\n",
    "        \n",
    "    def generate_reward(self,k,variance=1.0):\n",
    "        self.rewards = np.random.normal(self.reward_mean , variance, k)\n",
    "        \n",
    "class State:\n",
    "    def __init__(self,k,initial_value = 0):\n",
    "        self.state = None\n",
    "        self.estimation = np.zeros((k,2))\n",
    "            \n",
    "    def update_estimation(self,i):\n",
    "        self.estimation[i,0] += 1\n",
    "        self.estimation[i,1] += (1/self.estimation[i,0])*(self.state - self.estimation[i,1])"
   ]
  },
  {
   "cell_type": "code",
   "execution_count": 2,
   "id": "b0c38868",
   "metadata": {},
   "outputs": [],
   "source": [
    "def action_value_method(k,state,epsilon = 0.1):\n",
    "    if np.random.rand() >= epsilon:\n",
    "        values = []\n",
    "        for i in range(len(state.estimation)):\n",
    "            values.append([i,state.estimation[i,1]])\n",
    "        values.sort(key=lambda x: x[1], reverse=True)\n",
    "        action = values[0][0]\n",
    "        return action\n",
    "    else:\n",
    "        \n",
    "        return np.random.randint(k)\n",
    "        "
   ]
  },
  {
   "cell_type": "code",
   "execution_count": 3,
   "id": "ae8eaf2f",
   "metadata": {},
   "outputs": [],
   "source": [
    "def train(epochs,k=10):\n",
    "    reward = Reward(k,0,1)\n",
    "    state = State(k)\n",
    "    for i in range(epochs):\n",
    "        reward.generate_reward(k)\n",
    "        if i == 0:\n",
    "            action = np.random.randint(k)\n",
    "            state.state = reward.rewards[action]\n",
    "            state.update_estimation(action)\n",
    "        else:\n",
    "            action = int(action_value_method(k,state))\n",
    "            state.state = reward.rewards[action]\n",
    "            state.update_estimation(action)\n",
    "            \n",
    "    return state.estimation, reward.reward_mean"
   ]
  },
  {
   "cell_type": "code",
   "execution_count": 35,
   "id": "86a44ab6",
   "metadata": {},
   "outputs": [
    {
     "name": "stdout",
     "output_type": "stream",
     "text": [
      "[-0.9646824825817862, -0.7734285248686191, -1.0392943921797124, -0.6942788204502405, -0.3129278679767742, -0.3308427712186892, 0.027830058362595958, -0.4144926085290326, 0.03114854887464067, 1.097824070578142]\n",
      "[-1.11437381 -0.76419928 -1.11377496 -0.65365312 -0.32234059 -0.40821816\n",
      "  0.07615571 -0.39643604 -0.05086997  1.08623437]\n",
      "9 9\n"
     ]
    }
   ],
   "source": [
    "#可以看到確實都是第9種平均較高，長期下來應是選第9種action有最高的reward\n",
    "estimation ,reward_mean = train(20000)\n",
    "print([estimation[i,1] for i in range(len(estimation))])\n",
    "print(reward_mean)\n",
    "print(np.argmax(reward_mean),np.argmax([estimation[i,1] for i in range(len(estimation))]))"
   ]
  },
  {
   "cell_type": "code",
   "execution_count": null,
   "id": "47e2ed0d",
   "metadata": {},
   "outputs": [],
   "source": []
  }
 ],
 "metadata": {
  "kernelspec": {
   "display_name": "Python 3",
   "language": "python",
   "name": "python3"
  },
  "language_info": {
   "codemirror_mode": {
    "name": "ipython",
    "version": 3
   },
   "file_extension": ".py",
   "mimetype": "text/x-python",
   "name": "python",
   "nbconvert_exporter": "python",
   "pygments_lexer": "ipython3",
   "version": "3.8.8"
  }
 },
 "nbformat": 4,
 "nbformat_minor": 5
}
